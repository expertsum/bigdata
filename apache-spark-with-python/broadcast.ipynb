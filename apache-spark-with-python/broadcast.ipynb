{
 "cells": [
  {
   "cell_type": "code",
   "execution_count": 1,
   "metadata": {
    "collapsed": true
   },
   "outputs": [],
   "source": [
    "import pyspark.sql.functions as f\n",
    "from pyspark.sql import SparkSession\n",
    "spark = SparkSession.builder.master('local[*]').getOrCreate()"
   ]
  },
  {
   "cell_type": "code",
   "execution_count": 2,
   "metadata": {
    "collapsed": false
   },
   "outputs": [],
   "source": [
    "# Read the postcodes into a map\n",
    "postcodes_map = spark.read.csv('data/uk-postcode.csv', header=True) \\\n",
    "  .select('Postcode', 'Region').rdd \\\n",
    "  .collectAsMap()\n",
    "  \n",
    "# Broadcast the postcodes map\n",
    "postcodes = spark.sparkContext.broadcast(postcodes_map)"
   ]
  },
  {
   "cell_type": "code",
   "execution_count": 3,
   "metadata": {
    "collapsed": false
   },
   "outputs": [],
   "source": [
    "# Define a function to lookup the region for a postcode in the broadcast variable\n",
    "@f.udf\n",
    "def postcode_region(postcode):\n",
    "  prefix = postcode.strip().split(' ')[0]\n",
    "  return postcodes.value[prefix] if prefix in postcodes.value else 'Unknown'"
   ]
  },
  {
   "cell_type": "code",
   "execution_count": 4,
   "metadata": {
    "collapsed": false
   },
   "outputs": [
    {
     "name": "stdout",
     "output_type": "stream",
     "text": [
      "+--------------------+-----+\n",
      "|              Region|count|\n",
      "+--------------------+-----+\n",
      "|          Manchester|    3|\n",
      "|             Glasgow|    3|\n",
      "|       Tower Hamlets|    3|\n",
      "|             Cardiff|    3|\n",
      "|           Liverpool|    2|\n",
      "|           Southwark|    2|\n",
      "|             Bristol|    2|\n",
      "|             Belfast|    2|\n",
      "|           Lancaster|    2|\n",
      "|            Aberdeen|    2|\n",
      "|             Lambeth|    2|\n",
      "|   Brighton and Hove|    2|\n",
      "|              Camden|    2|\n",
      "|           Sheffield|    2|\n",
      "|              Oxford|    2|\n",
      "|               Leeds|    2|\n",
      "|    Scottish Borders|    1|\n",
      "|Cheshire West and...|    1|\n",
      "|           Cambridge|    1|\n",
      "|          Wandsworth|    1|\n",
      "+--------------------+-----+\n",
      "only showing top 20 rows\n",
      "\n"
     ]
    }
   ],
   "source": [
    "# Calculate the makerspace count by region\n",
    "makerspaces = spark.read.csv('data/uk-makerspaces-identifiable-data.csv', header=True)\n",
    "makerspaces \\\n",
    "  .select('Postcode') \\\n",
    "  .withColumn('Region', postcode_region(makerspaces.Postcode)) \\\n",
    "  .groupBy('Region') \\\n",
    "  .count() \\\n",
    "  .orderBy('count', ascending=False) \\\n",
    "  .show()"
   ]
  }
 ],
 "metadata": {
  "kernelspec": {
   "display_name": "Python 3",
   "language": "python",
   "name": "python3"
  },
  "language_info": {
   "codemirror_mode": {
    "name": "ipython",
    "version": 3
   },
   "file_extension": ".py",
   "mimetype": "text/x-python",
   "name": "python",
   "nbconvert_exporter": "python",
   "pygments_lexer": "ipython3",
   "version": "3.5.5"
  }
 },
 "nbformat": 4,
 "nbformat_minor": 2
}
