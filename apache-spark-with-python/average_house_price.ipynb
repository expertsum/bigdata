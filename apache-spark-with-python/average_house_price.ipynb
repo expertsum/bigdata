{
 "cells": [
  {
   "cell_type": "code",
   "execution_count": 1,
   "metadata": {
    "collapsed": false
   },
   "outputs": [],
   "source": [
    "from pyspark.sql import SparkSession\n",
    "spark = SparkSession.builder.master('local[*]').getOrCreate()"
   ]
  },
  {
   "cell_type": "code",
   "execution_count": 5,
   "metadata": {
    "collapsed": false
   },
   "outputs": [
    {
     "name": "stdout",
     "output_type": "stream",
     "text": [
      "MLS,Location,Price,Bedrooms,Bathrooms,Size,Price SQ Ft,Status\r",
      "\r\n",
      "132842,Arroyo Grande,795000.00,3,3,2371,335.30,Short Sale\r",
      "\r\n",
      "134364,Paso Robles,399000.00,4,3,2818,141.59,Short Sale\r",
      "\r\n",
      "135141,Paso Robles,545000.00,4,3,3032,179.75,Short Sale\r",
      "\r\n",
      "135712,Morro Bay,909000.00,4,4,3540,256.78,Short Sale\r",
      "\r\n",
      "136282,Santa Maria-Orcutt,109900.00,3,1,1249,87.99,Short Sale\r",
      "\r\n",
      "136431,Oceano,324900.00,3,3,1800,180.50,Short Sale\r",
      "\r\n",
      "137036,Santa Maria-Orcutt,192900.00,4,2,1603,120.34,Short Sale\r",
      "\r\n",
      "137090,Santa Maria-Orcutt,215000.00,3,2,1450,148.28,Short Sale\r",
      "\r\n",
      "137159,Morro Bay,999000.00,4,3,3360,297.32,Short Sale\r",
      "\r\n"
     ]
    }
   ],
   "source": [
    "!head data/RealEstate.csv"
   ]
  },
  {
   "cell_type": "code",
   "execution_count": 11,
   "metadata": {
    "collapsed": false
   },
   "outputs": [],
   "source": [
    "schema = 'MLS string, Location string, Price double, Bedrooms int, Bathrooms int, Size double, PriceSqFt double, Status string'\n",
    "df = spark.read.csv('data/RealEstate.csv', sep=',', header=True, schema=schema)"
   ]
  },
  {
   "cell_type": "code",
   "execution_count": 57,
   "metadata": {
    "collapsed": false
   },
   "outputs": [
    {
     "data": {
      "text/plain": [
       "[(1, 169981.81818181818),\n",
       " (6, 603225.0),\n",
       " (3, 359062.20649651974),\n",
       " (5, 657858.0645161291),\n",
       " (4, 483475.6497175141),\n",
       " (7, 325000.0),\n",
       " (10, 699000.0),\n",
       " (2, 266356.3739837398),\n",
       " (0, 293450.0)]"
      ]
     },
     "execution_count": 57,
     "metadata": {},
     "output_type": "execute_result"
    }
   ],
   "source": [
    "# Average price using groupBy + avg\n",
    "df.groupBy('Bedrooms') \\\n",
    "  .avg('Price') \\\n",
    "  .rdd \\\n",
    "  .map(lambda r: (r['Bedrooms'], r['avg(Price)'])) \\\n",
    "  .collect()"
   ]
  },
  {
   "cell_type": "code",
   "execution_count": 55,
   "metadata": {
    "collapsed": false
   },
   "outputs": [
    {
     "data": {
      "text/plain": [
       "[(0, 293450.0),\n",
       " (1, 169981.81818181818),\n",
       " (2, 266356.3739837398),\n",
       " (3, 359062.20649651974),\n",
       " (4, 483475.6497175141),\n",
       " (5, 657858.0645161291),\n",
       " (6, 603225.0),\n",
       " (7, 325000.0),\n",
       " (10, 699000.0)]"
      ]
     },
     "execution_count": 55,
     "metadata": {},
     "output_type": "execute_result"
    }
   ],
   "source": [
    "# Average price using reduceByKey + mapValues\n",
    "df.rdd \\\n",
    "  .map(lambda h: (h.Bedrooms, (h.Price, 1))) \\\n",
    "  .reduceByKey(lambda x, y: (x[0]+y[0], x[1]+y[1])) \\\n",
    "  .mapValues(lambda v: v[0]/v[1]) \\\n",
    "  .collect()"
   ]
  }
 ],
 "metadata": {
  "kernelspec": {
   "display_name": "Python 3",
   "language": "python",
   "name": "python3"
  },
  "language_info": {
   "codemirror_mode": {
    "name": "ipython",
    "version": 3
   },
   "file_extension": ".py",
   "mimetype": "text/x-python",
   "name": "python",
   "nbconvert_exporter": "python",
   "pygments_lexer": "ipython3",
   "version": "3.5.5"
  }
 },
 "nbformat": 4,
 "nbformat_minor": 2
}
