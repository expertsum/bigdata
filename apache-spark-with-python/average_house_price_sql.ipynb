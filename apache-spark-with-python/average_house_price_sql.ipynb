{
 "cells": [
  {
   "cell_type": "code",
   "execution_count": 7,
   "metadata": {
    "collapsed": false,
    "deletable": true,
    "editable": true
   },
   "outputs": [],
   "source": [
    "from pyspark.sql import SparkSession\n",
    "spark = SparkSession.builder.master('local[*]').getOrCreate()"
   ]
  },
  {
   "cell_type": "code",
   "execution_count": 8,
   "metadata": {
    "collapsed": false,
    "deletable": true,
    "editable": true
   },
   "outputs": [
    {
     "name": "stdout",
     "output_type": "stream",
     "text": [
      "MLS,Location,Price,Bedrooms,Bathrooms,Size,Price SQ Ft,Status\r",
      "\r\n",
      "132842,Arroyo Grande,795000.00,3,3,2371,335.30,Short Sale\r",
      "\r\n",
      "134364,Paso Robles,399000.00,4,3,2818,141.59,Short Sale\r",
      "\r\n",
      "135141,Paso Robles,545000.00,4,3,3032,179.75,Short Sale\r",
      "\r\n",
      "135712,Morro Bay,909000.00,4,4,3540,256.78,Short Sale\r",
      "\r\n",
      "136282,Santa Maria-Orcutt,109900.00,3,1,1249,87.99,Short Sale\r",
      "\r\n",
      "136431,Oceano,324900.00,3,3,1800,180.50,Short Sale\r",
      "\r\n",
      "137036,Santa Maria-Orcutt,192900.00,4,2,1603,120.34,Short Sale\r",
      "\r\n",
      "137090,Santa Maria-Orcutt,215000.00,3,2,1450,148.28,Short Sale\r",
      "\r\n",
      "137159,Morro Bay,999000.00,4,3,3360,297.32,Short Sale\r",
      "\r\n"
     ]
    }
   ],
   "source": [
    "!head data/RealEstate.csv"
   ]
  },
  {
   "cell_type": "code",
   "execution_count": 9,
   "metadata": {
    "collapsed": false,
    "deletable": true,
    "editable": true
   },
   "outputs": [],
   "source": [
    "schema = 'MLS string, Location string, Price double, Bedrooms int, Bathrooms int, Size double, PriceSqFt double, Status string'\n",
    "df = spark.read.csv('data/RealEstate.csv', sep=',', header=True, schema=schema)"
   ]
  },
  {
   "cell_type": "code",
   "execution_count": 10,
   "metadata": {
    "collapsed": false,
    "deletable": true,
    "editable": true
   },
   "outputs": [
    {
     "name": "stdout",
     "output_type": "stream",
     "text": [
      "+-------------------+------------------+\n",
      "|           Location|      AvgPriceSqFt|\n",
      "+-------------------+------------------+\n",
      "|         New Cuyama|             34.05|\n",
      "|        Bakersfield|             69.69|\n",
      "|          King City| 71.51333333333334|\n",
      "|         Greenfield|             91.58|\n",
      "|    Santa Margarita|             95.38|\n",
      "|            Soledad|102.69333333333333|\n",
      "|        Out Of Area|116.23333333333333|\n",
      "|          Guadalupe|           120.175|\n",
      "|           Coalinga|124.34285714285714|\n",
      "| Santa Maria-Orcutt|147.58871698113194|\n",
      "|             Lompoc|             149.9|\n",
      "|             Lompoc|159.87115384615387|\n",
      "|         San Miguel|163.16071428571425|\n",
      "|            Bradley|            166.81|\n",
      "|            Creston|            181.76|\n",
      "| Santa Maria-Orcutt|183.03692307692307|\n",
      "|             Nipomo|187.92333333333332|\n",
      "|        Paso Robles|191.17752941176474|\n",
      "|         Los Alamos|191.99333333333334|\n",
      "|            Solvang|           193.305|\n",
      "+-------------------+------------------+\n",
      "only showing top 20 rows\n",
      "\n"
     ]
    }
   ],
   "source": [
    "# Average house price per sq ft using SQL query\n",
    "df.createOrReplaceTempView('real_estate')\n",
    "\n",
    "spark.sql('''\n",
    "SELECT\n",
    "  Location,\n",
    "  AVG(PriceSqFt) AS AvgPriceSqFt\n",
    "FROM real_estate\n",
    "GROUP BY\n",
    "  Location\n",
    "ORDER BY\n",
    "  2 ASC''').show()"
   ]
  },
  {
   "cell_type": "code",
   "execution_count": 11,
   "metadata": {
    "collapsed": false
   },
   "outputs": [
    {
     "name": "stdout",
     "output_type": "stream",
     "text": [
      "+-------------------+------------------+\n",
      "|           Location|    avg(PriceSqFt)|\n",
      "+-------------------+------------------+\n",
      "|         New Cuyama|             34.05|\n",
      "|        Bakersfield|             69.69|\n",
      "|          King City| 71.51333333333334|\n",
      "|         Greenfield|             91.58|\n",
      "|    Santa Margarita|             95.38|\n",
      "|            Soledad|102.69333333333333|\n",
      "|        Out Of Area|116.23333333333333|\n",
      "|          Guadalupe|           120.175|\n",
      "|           Coalinga|124.34285714285714|\n",
      "| Santa Maria-Orcutt|147.58871698113194|\n",
      "|             Lompoc|             149.9|\n",
      "|             Lompoc|159.87115384615387|\n",
      "|         San Miguel|163.16071428571425|\n",
      "|            Bradley|            166.81|\n",
      "|            Creston|            181.76|\n",
      "| Santa Maria-Orcutt|183.03692307692307|\n",
      "|             Nipomo|187.92333333333332|\n",
      "|        Paso Robles|191.17752941176474|\n",
      "|         Los Alamos|191.99333333333334|\n",
      "|            Solvang|           193.305|\n",
      "+-------------------+------------------+\n",
      "only showing top 20 rows\n",
      "\n"
     ]
    }
   ],
   "source": [
    "# Average house price per sq ft using SQL api\n",
    "df.groupBy('Location') \\\n",
    "  .avg('PriceSqFt') \\\n",
    "  .orderBy('avg(PriceSqFt)') \\\n",
    "  .show()"
   ]
  }
 ],
 "metadata": {
  "kernelspec": {
   "display_name": "Python 3",
   "language": "python",
   "name": "python3"
  },
  "language_info": {
   "codemirror_mode": {
    "name": "ipython",
    "version": 3
   },
   "file_extension": ".py",
   "mimetype": "text/x-python",
   "name": "python",
   "nbconvert_exporter": "python",
   "pygments_lexer": "ipython3",
   "version": "3.5.5"
  }
 },
 "nbformat": 4,
 "nbformat_minor": 2
}
