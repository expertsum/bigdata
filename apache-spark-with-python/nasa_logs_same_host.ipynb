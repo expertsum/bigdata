{
 "cells": [
  {
   "cell_type": "code",
   "execution_count": 1,
   "metadata": {
    "collapsed": true,
    "deletable": true,
    "editable": true
   },
   "outputs": [],
   "source": [
    "from pyspark.sql import SparkSession\n",
    "spark = SparkSession.builder.master('local[*]').getOrCreate()"
   ]
  },
  {
   "cell_type": "code",
   "execution_count": 2,
   "metadata": {
    "collapsed": true,
    "deletable": true,
    "editable": true
   },
   "outputs": [],
   "source": [
    "logs_july = spark.read.csv('data/nasa_19950701.tsv', sep='\\t', header=True)\n",
    "logs_august = spark.read.csv('data/nasa_19950801.tsv', sep='\\t', header=True)"
   ]
  },
  {
   "cell_type": "code",
   "execution_count": 3,
   "metadata": {
    "collapsed": true,
    "deletable": true,
    "editable": true
   },
   "outputs": [],
   "source": [
    "same_hosts = logs_july.select('host').intersect(logs_august.select('host')).coalesce(1)\n",
    "same_hosts.write.csv('/tmp/nasa_logs_same_hosts.csv', mode='overwrite')"
   ]
  },
  {
   "cell_type": "code",
   "execution_count": 4,
   "metadata": {
    "collapsed": false
   },
   "outputs": [
    {
     "name": "stdout",
     "output_type": "stream",
     "text": [
      "hella.stm.it\r\n",
      "srv1.freenet.calgary.ab.ca\r\n",
      "ntigate.nt.com\r\n",
      "www-b5.proxy.aol.com\r\n",
      "piweba2y.prodigy.com\r\n",
      "server.elysian.net\r\n",
      "koala.melbpc.org.au\r\n",
      "www-a2.proxy.aol.com\r\n",
      "www-d3.proxy.aol.com\r\n",
      "ottgate2.bnr.ca\r\n"
     ]
    }
   ],
   "source": [
    "!head /tmp/nasa_logs_same_hosts.csv/*.csv"
   ]
  }
 ],
 "metadata": {
  "kernelspec": {
   "display_name": "Python 3",
   "language": "python",
   "name": "python3"
  },
  "language_info": {
   "codemirror_mode": {
    "name": "ipython",
    "version": 3
   },
   "file_extension": ".py",
   "mimetype": "text/x-python",
   "name": "python",
   "nbconvert_exporter": "python",
   "pygments_lexer": "ipython3",
   "version": "3.5.5"
  }
 },
 "nbformat": 4,
 "nbformat_minor": 2
}
