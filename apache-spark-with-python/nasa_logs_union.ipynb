{
 "cells": [
  {
   "cell_type": "code",
   "execution_count": 1,
   "metadata": {
    "collapsed": true,
    "deletable": true,
    "editable": true
   },
   "outputs": [],
   "source": [
    "from pyspark.sql import SparkSession\n",
    "spark = SparkSession.builder.master('local[*]').getOrCreate()"
   ]
  },
  {
   "cell_type": "code",
   "execution_count": 2,
   "metadata": {
    "collapsed": true,
    "deletable": true,
    "editable": true
   },
   "outputs": [],
   "source": [
    "logs_july = spark.read.csv('data/nasa_19950701.tsv', sep='\\t', header=True)\n",
    "logs_august = spark.read.csv('data/nasa_19950801.tsv', sep='\\t', header=True)"
   ]
  },
  {
   "cell_type": "code",
   "execution_count": 3,
   "metadata": {
    "collapsed": true,
    "deletable": true,
    "editable": true
   },
   "outputs": [],
   "source": [
    "sample = logs_july.unionAll(logs_august).sample(0.1).coalesce(1)\n",
    "sample.write.csv('/tmp/sample_nasa_logs.tsv', mode='overwrite', sep='\\t')"
   ]
  },
  {
   "cell_type": "code",
   "execution_count": 4,
   "metadata": {
    "collapsed": false
   },
   "outputs": [
    {
     "name": "stdout",
     "output_type": "stream",
     "text": [
      "d104.aa.net\t-\t804571213\tGET\t/shuttle/countdown/\t200\t3985\r\n",
      "unicomp6.unicomp.net\t-\t804571214\tGET\t/shuttle/countdown/count.gif\t200\t40310\r\n",
      "net-1-141.eden.com\t-\t804571219\tGET\t/shuttle/missions/sts-71/images/KSC-95EC-0916.jpg\t200\t34029\r\n",
      "ppp-mia-30.shadow.net\t-\t804571227\tGET\t/\t200\t7074\r\n",
      "205.189.154.54\t-\t804571240\tGET\t/images/NASA-logosmall.gif\t200\t786\r\n",
      "gayle-gaston.tenet.edu\t-\t804571250\tGET\t/shuttle/missions/sts-71/mission-sts-71.html\t200\t12040\r\n",
      "ppp-nyc-3-1.ios.com\t-\t804571259\tGET\t/shuttle/missions/sts-71/images/KSC-95EC-0882.jpg\t200\t77163\r\n",
      "199.72.81.55\t-\t804571259\tGET\t/history/\t200\t1382\r\n",
      "port26.annex2.nwlink.com\t-\t804571287\tGET\t/images/KSC-logosmall.gif\t200\t1204\r\n",
      "port26.annex2.nwlink.com\t-\t804571292\tGET\t/images/USA-logosmall.gif\t200\t234\r\n"
     ]
    }
   ],
   "source": [
    "!head /tmp/sample_nasa_logs.tsv/*.csv"
   ]
  }
 ],
 "metadata": {
  "kernelspec": {
   "display_name": "Python 3",
   "language": "python",
   "name": "python3"
  },
  "language_info": {
   "codemirror_mode": {
    "name": "ipython",
    "version": 3
   },
   "file_extension": ".py",
   "mimetype": "text/x-python",
   "name": "python",
   "nbconvert_exporter": "python",
   "pygments_lexer": "ipython3",
   "version": "3.5.5"
  }
 },
 "nbformat": 4,
 "nbformat_minor": 2
}
