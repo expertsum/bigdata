{
 "cells": [
  {
   "cell_type": "code",
   "execution_count": 1,
   "metadata": {
    "collapsed": true,
    "deletable": true,
    "editable": true
   },
   "outputs": [],
   "source": [
    "from pyspark.sql import SparkSession\n",
    "spark = SparkSession.builder.master('local[*]').getOrCreate()"
   ]
  },
  {
   "cell_type": "code",
   "execution_count": 2,
   "metadata": {
    "collapsed": true,
    "deletable": true,
    "editable": true
   },
   "outputs": [],
   "source": [
    "schema = '''airport_id string, name string, city string, country string, \n",
    "            iata_code string, icao_code string, latitude double, longitude double, \n",
    "            altitude double, timezone string, dst string, timezone_olson string'''\n",
    "airports = spark.read.csv('data/airports.text', schema=schema)"
   ]
  },
  {
   "cell_type": "code",
   "execution_count": 12,
   "metadata": {
    "collapsed": false
   },
   "outputs": [],
   "source": [
    "airports.rdd \\\n",
    "  .map(lambda a: (a.name, a.country)) \\\n",
    "  .filter(lambda a: a[1] != 'United States') \\\n",
    "  .saveAsTextFile('/tmp/airports_not_in_usa_pair_rdd.text')"
   ]
  },
  {
   "cell_type": "code",
   "execution_count": 18,
   "metadata": {
    "collapsed": false,
    "deletable": true,
    "editable": true
   },
   "outputs": [
    {
     "name": "stdout",
     "output_type": "stream",
     "text": [
      "('Goroka', 'Papua New Guinea')\r\n",
      "('Madang', 'Papua New Guinea')\r\n",
      "('Mount Hagen', 'Papua New Guinea')\r\n",
      "('Nadzab', 'Papua New Guinea')\r\n",
      "('Port Moresby Jacksons Intl', 'Papua New Guinea')\r\n",
      "('Wewak Intl', 'Papua New Guinea')\r\n",
      "('Narsarsuaq', 'Greenland')\r\n",
      "('Nuuk', 'Greenland')\r\n",
      "('Sondre Stromfjord', 'Greenland')\r\n",
      "('Thule Air Base', 'Greenland')\r\n"
     ]
    }
   ],
   "source": [
    "!head /tmp/airports_not_in_usa_pair_rdd.text/part-00000"
   ]
  }
 ],
 "metadata": {
  "kernelspec": {
   "display_name": "Python 3",
   "language": "python",
   "name": "python3"
  },
  "language_info": {
   "codemirror_mode": {
    "name": "ipython",
    "version": 3
   },
   "file_extension": ".py",
   "mimetype": "text/x-python",
   "name": "python",
   "nbconvert_exporter": "python",
   "pygments_lexer": "ipython3",
   "version": "3.5.5"
  }
 },
 "nbformat": 4,
 "nbformat_minor": 2
}
