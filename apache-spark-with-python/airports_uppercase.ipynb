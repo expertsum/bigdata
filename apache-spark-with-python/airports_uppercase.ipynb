{
 "cells": [
  {
   "cell_type": "code",
   "execution_count": 2,
   "metadata": {
    "collapsed": true,
    "deletable": true,
    "editable": true
   },
   "outputs": [],
   "source": [
    "from pyspark.sql import SparkSession\n",
    "spark = SparkSession.builder.master('local[*]').getOrCreate()"
   ]
  },
  {
   "cell_type": "code",
   "execution_count": 3,
   "metadata": {
    "collapsed": true,
    "deletable": true,
    "editable": true
   },
   "outputs": [],
   "source": [
    "schema = '''airport_id string, name string, city string, country string, \n",
    "            iata_code string, icao_code string, latitude double, longitude double, \n",
    "            altitude double, timezone string, dst string, timezone_olson string'''\n",
    "airports = spark.read.csv('data/airports.text', schema=schema)"
   ]
  },
  {
   "cell_type": "code",
   "execution_count": 9,
   "metadata": {
    "collapsed": false
   },
   "outputs": [
    {
     "data": {
      "text/plain": [
       "[('Goroka', 'PAPUA NEW GUINEA'),\n",
       " ('Madang', 'PAPUA NEW GUINEA'),\n",
       " ('Mount Hagen', 'PAPUA NEW GUINEA'),\n",
       " ('Nadzab', 'PAPUA NEW GUINEA'),\n",
       " ('Port Moresby Jacksons Intl', 'PAPUA NEW GUINEA')]"
      ]
     },
     "execution_count": 9,
     "metadata": {},
     "output_type": "execute_result"
    }
   ],
   "source": [
    "airports.rdd \\\n",
    "  .map(lambda a: (a.name, a.country)) \\\n",
    "  .mapValues(lambda c: c.upper()) \\\n",
    "  .take(5)"
   ]
  }
 ],
 "metadata": {
  "kernelspec": {
   "display_name": "Python 3",
   "language": "python",
   "name": "python3"
  },
  "language_info": {
   "codemirror_mode": {
    "name": "ipython",
    "version": 3
   },
   "file_extension": ".py",
   "mimetype": "text/x-python",
   "name": "python",
   "nbconvert_exporter": "python",
   "pygments_lexer": "ipython3",
   "version": "3.5.5"
  }
 },
 "nbformat": 4,
 "nbformat_minor": 2
}
