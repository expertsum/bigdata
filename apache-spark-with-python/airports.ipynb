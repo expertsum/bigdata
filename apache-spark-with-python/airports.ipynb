{
 "cells": [
  {
   "cell_type": "code",
   "execution_count": 9,
   "metadata": {
    "collapsed": true,
    "deletable": true,
    "editable": true
   },
   "outputs": [],
   "source": [
    "from pyspark.sql import SparkSession\n",
    "spark = SparkSession.builder.master('local[*]').getOrCreate()"
   ]
  },
  {
   "cell_type": "code",
   "execution_count": 10,
   "metadata": {
    "collapsed": true,
    "deletable": true,
    "editable": true
   },
   "outputs": [],
   "source": [
    "schema = '''airport_id string, name string, city string, country string, \n",
    "            iata_code string, icao_code string, latitude double, longitude double, \n",
    "            altitude double, timezone string, dst string, timezone_olson string'''\n",
    "airports = spark.read.csv('data/airports.text', schema=schema)"
   ]
  },
  {
   "cell_type": "code",
   "execution_count": 11,
   "metadata": {
    "collapsed": true,
    "deletable": true,
    "editable": true
   },
   "outputs": [],
   "source": [
    "airports_usa = airports \\\n",
    "                .where(airports.country == 'United States') \\\n",
    "                .select('name', 'city') \\\n",
    "                .write.csv('/tmp/airports_in_usa.text', mode='overwrite')"
   ]
  },
  {
   "cell_type": "code",
   "execution_count": 12,
   "metadata": {
    "collapsed": false
   },
   "outputs": [
    {
     "name": "stdout",
     "output_type": "stream",
     "text": [
      "Putnam County Airport,Greencastle\r\n",
      "Dowagiac Municipal Airport,Dowagiac\r\n",
      "Cambridge Municipal Airport,Cambridge\r\n",
      "Door County Cherryland Airport,Sturgeon Bay\r\n",
      "Shoestring Aviation Airfield,Stewartstown\r\n",
      "Eastern Oregon Regional Airport,Pendleton\r\n",
      "Tyonek Airport,Tyonek\r\n",
      "Riverton Regional,Riverton WY\r\n",
      "Montrose Regional Airport,Montrose CO\r\n",
      "Clow International Airport,Bolingbrook\r\n"
     ]
    }
   ],
   "source": [
    "!head /tmp/airports_in_usa.text/*.csv"
   ]
  }
 ],
 "metadata": {
  "kernelspec": {
   "display_name": "Python 3",
   "language": "python",
   "name": "python3"
  },
  "language_info": {
   "codemirror_mode": {
    "name": "ipython",
    "version": 3
   },
   "file_extension": ".py",
   "mimetype": "text/x-python",
   "name": "python",
   "nbconvert_exporter": "python",
   "pygments_lexer": "ipython3",
   "version": "3.5.5"
  }
 },
 "nbformat": 4,
 "nbformat_minor": 2
}
