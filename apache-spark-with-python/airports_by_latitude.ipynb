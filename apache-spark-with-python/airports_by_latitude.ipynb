{
 "cells": [
  {
   "cell_type": "code",
   "execution_count": 1,
   "metadata": {
    "collapsed": true,
    "deletable": true,
    "editable": true
   },
   "outputs": [],
   "source": [
    "from pyspark.sql import SparkSession\n",
    "spark = SparkSession.builder.master('local[*]').getOrCreate()"
   ]
  },
  {
   "cell_type": "code",
   "execution_count": 2,
   "metadata": {
    "collapsed": true,
    "deletable": true,
    "editable": true
   },
   "outputs": [],
   "source": [
    "schema = '''airport_id string, name string, city string, country string, \n",
    "            iata_code string, icao_code string, latitude double, longitude double, \n",
    "            altitude double, timezone string, dst string, timezone_olson string'''\n",
    "airports = spark.read.csv('data/airports.text', schema=schema)"
   ]
  },
  {
   "cell_type": "code",
   "execution_count": 3,
   "metadata": {
    "collapsed": true,
    "deletable": true,
    "editable": true
   },
   "outputs": [],
   "source": [
    "airports_usa = airports \\\n",
    "                .where(airports.latitude > 40) \\\n",
    "                .select('name', 'latitude') \\\n",
    "                .write.csv('/tmp/airports_by_latitude.text', mode='overwrite')"
   ]
  },
  {
   "cell_type": "code",
   "execution_count": 6,
   "metadata": {
    "collapsed": false
   },
   "outputs": [
    {
     "name": "stdout",
     "output_type": "stream",
     "text": [
      "Narsarsuaq,61.160517\r\n",
      "Nuuk,64.190922\r\n",
      "Sondre Stromfjord,67.016969\r\n",
      "Thule Air Base,76.531203\r\n",
      "Akureyri,65.659994\r\n",
      "Egilsstadir,65.283333\r\n",
      "Hornafjordur,64.295556\r\n",
      "Husavik,65.952328\r\n",
      "Isafjordur,66.058056\r\n",
      "Keflavik International Airport,63.985\r\n"
     ]
    }
   ],
   "source": [
    "!head /tmp/airports_by_latitude.text/*.csv"
   ]
  }
 ],
 "metadata": {
  "kernelspec": {
   "display_name": "Python 3",
   "language": "python",
   "name": "python3"
  },
  "language_info": {
   "codemirror_mode": {
    "name": "ipython",
    "version": 3
   },
   "file_extension": ".py",
   "mimetype": "text/x-python",
   "name": "python",
   "nbconvert_exporter": "python",
   "pygments_lexer": "ipython3",
   "version": "3.5.5"
  }
 },
 "nbformat": 4,
 "nbformat_minor": 2
}
