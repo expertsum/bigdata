{
 "cells": [
  {
   "cell_type": "code",
   "execution_count": 42,
   "metadata": {
    "collapsed": true,
    "deletable": true,
    "editable": true
   },
   "outputs": [],
   "source": [
    "from pyspark.sql import SparkSession\n",
    "spark = SparkSession.builder.master('local[*]').getOrCreate()"
   ]
  },
  {
   "cell_type": "code",
   "execution_count": 45,
   "metadata": {
    "collapsed": false,
    "deletable": true,
    "editable": true
   },
   "outputs": [
    {
     "name": "stdout",
     "output_type": "stream",
     "text": [
      "  2\t  3\t  5\t  7\t 11\t 13\t 17\t 19\t 23\t 29\r\n",
      " 31\t 37\t 41\t 43\t 47\t 53\t 59\t 61\t 67\t 71\r\n",
      " 73\t 79\t 83\t 89\t 97\t101\t103\t107\t109\t113\r\n",
      "127\t131\t137\t139\t149\t151\t157\t163\t167\t173\r\n",
      "179\t181\t191\t193\t197\t199\t211\t223\t227\t229\r\n",
      "233\t239\t241\t251\t257\t263\t269\t271\t277\t281\r\n",
      "283\t293\t307\t311\t313\t317\t331\t337\t347\t349\r\n",
      "353\t359\t367\t373\t379\t383\t389\t397\t401\t409\r\n",
      "419\t421\t431\t433\t439\t443\t449\t457\t461\t463\r\n",
      "467\t479\t487\t491\t499\t503\t509\t521\t523\t541\r\n"
     ]
    }
   ],
   "source": [
    "!head 'data/prime_nums.text'"
   ]
  },
  {
   "cell_type": "code",
   "execution_count": 43,
   "metadata": {
    "collapsed": true,
    "deletable": true,
    "editable": true
   },
   "outputs": [],
   "source": [
    "df = spark.read.text('data/prime_nums.text').rdd \\\n",
    "      .flatMap(lambda l: l.value.split('\\t')) \\\n",
    "      .map(lambda i: int(i))"
   ]
  },
  {
   "cell_type": "code",
   "execution_count": 44,
   "metadata": {
    "collapsed": false,
    "deletable": true,
    "editable": true
   },
   "outputs": [
    {
     "name": "stdout",
     "output_type": "stream",
     "text": [
      "Sum of all prime numbers is 24133\n"
     ]
    }
   ],
   "source": [
    "print('Sum of all prime numbers is {}'.format(df.sum()))"
   ]
  }
 ],
 "metadata": {
  "kernelspec": {
   "display_name": "Python 3",
   "language": "python",
   "name": "python3"
  },
  "language_info": {
   "codemirror_mode": {
    "name": "ipython",
    "version": 3
   },
   "file_extension": ".py",
   "mimetype": "text/x-python",
   "name": "python",
   "nbconvert_exporter": "python",
   "pygments_lexer": "ipython3",
   "version": "3.5.5"
  }
 },
 "nbformat": 4,
 "nbformat_minor": 2
}
