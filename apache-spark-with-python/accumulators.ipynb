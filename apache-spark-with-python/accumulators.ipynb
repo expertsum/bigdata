{
 "cells": [
  {
   "cell_type": "code",
   "execution_count": 72,
   "metadata": {
    "collapsed": false
   },
   "outputs": [],
   "source": [
    "import sys\n",
    "from pyspark.sql import SparkSession\n",
    "spark = SparkSession.builder.master('local[*]').getOrCreate()"
   ]
  },
  {
   "cell_type": "code",
   "execution_count": 73,
   "metadata": {
    "collapsed": true
   },
   "outputs": [],
   "source": [
    "survey = spark.read \\\n",
    "  .option('header', True) \\\n",
    "  .csv('data/2016-stack-overflow-survey-responses.csv')"
   ]
  },
  {
   "cell_type": "code",
   "execution_count": 74,
   "metadata": {
    "collapsed": false
   },
   "outputs": [],
   "source": [
    "count_all = spark.sparkContext.accumulator(0)\n",
    "count_canada = spark.sparkContext.accumulator(0)\n",
    "count_missing_salary_midpoint = spark.sparkContext.accumulator(0)\n",
    "total_bytes = spark.sparkContext.accumulator(0)"
   ]
  },
  {
   "cell_type": "code",
   "execution_count": 75,
   "metadata": {
    "collapsed": false
   },
   "outputs": [],
   "source": [
    "def summarize(s):\n",
    "  for result in s:\n",
    "    count_all.add(1)\n",
    "    total_bytes.add(sys.getsizeof(result))\n",
    "    if not result.salary_midpoint:\n",
    "      count_missing_salary_midpoint.add(1)\n",
    "    if result.country.upper() == 'CANADA':\n",
    "      count_canada.add(1)\n",
    "      \n",
    "survey.foreachPartition(summarize)"
   ]
  },
  {
   "cell_type": "code",
   "execution_count": 76,
   "metadata": {
    "collapsed": false
   },
   "outputs": [
    {
     "name": "stdout",
     "output_type": "stream",
     "text": [
      "Total count: 1999\n",
      "Canada count: 77\n",
      "Missing salary midpoint: 566\n",
      "Total bytes: 1167416\n"
     ]
    }
   ],
   "source": [
    "print('Total count: {}'.format(count_all.value))\n",
    "print('Canada count: {}'.format(count_canada.value))\n",
    "print('Missing salary midpoint: {}'.format(count_missing_salary_midpoint.value))\n",
    "print('Total bytes: {}'.format(total_bytes.value))"
   ]
  }
 ],
 "metadata": {
  "kernelspec": {
   "display_name": "Python 3",
   "language": "python",
   "name": "python3"
  },
  "language_info": {
   "codemirror_mode": {
    "name": "ipython",
    "version": 3
   },
   "file_extension": ".py",
   "mimetype": "text/x-python",
   "name": "python",
   "nbconvert_exporter": "python",
   "pygments_lexer": "ipython3",
   "version": "3.5.5"
  }
 },
 "nbformat": 4,
 "nbformat_minor": 2
}
