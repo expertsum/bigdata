{
 "cells": [
  {
   "cell_type": "code",
   "execution_count": 39,
   "metadata": {
    "collapsed": true,
    "deletable": true,
    "editable": true
   },
   "outputs": [],
   "source": [
    "from pyspark.sql import SparkSession\n",
    "spark = SparkSession.builder.getOrCreate()"
   ]
  },
  {
   "cell_type": "code",
   "execution_count": 40,
   "metadata": {
    "collapsed": false,
    "deletable": true,
    "editable": true
   },
   "outputs": [],
   "source": [
    "word_count = spark.read.text('data/word_count.text').rdd \\\n",
    "  .flatMap(lambda line: line[0].split(' ')) \\\n",
    "  .map(lambda w: (w, 1)) \\\n",
    "  .reduceByKey(lambda x, y: x+y) \\\n",
    "  .sortBy(lambda w: w[1], ascending=False) \\\n",
    "  .take(10)"
   ]
  },
  {
   "cell_type": "code",
   "execution_count": 41,
   "metadata": {
    "collapsed": false,
    "deletable": true,
    "editable": true
   },
   "outputs": [
    {
     "name": "stdout",
     "output_type": "stream",
     "text": [
      "the : 71\n",
      "of : 33\n",
      "in : 21\n",
      "and : 21\n",
      "New : 20\n",
      "York : 17\n",
      "to : 17\n",
      "a : 11\n",
      "The : 10\n",
      "was : 8\n"
     ]
    }
   ],
   "source": [
    "for (word, count) in word_count:\n",
    "    print('{} : {}'.format(word, count))"
   ]
  }
 ],
 "metadata": {
  "kernelspec": {
   "display_name": "Python 3",
   "language": "python",
   "name": "python3"
  },
  "language_info": {
   "codemirror_mode": {
    "name": "ipython",
    "version": 3
   },
   "file_extension": ".py",
   "mimetype": "text/x-python",
   "name": "python",
   "nbconvert_exporter": "python",
   "pygments_lexer": "ipython3",
   "version": "3.5.5"
  }
 },
 "nbformat": 4,
 "nbformat_minor": 2
}
